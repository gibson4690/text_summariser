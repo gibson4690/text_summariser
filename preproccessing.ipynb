{
 "cells": [
  {
   "cell_type": "code",
   "execution_count": 1,
   "metadata": {
    "collapsed": true
   },
   "outputs": [],
   "source": [
    "import os \n",
    "import glob\n",
    "import _pickle as pickle"
   ]
  },
  {
   "cell_type": "code",
   "execution_count": 2,
   "metadata": {
    "collapsed": false
   },
   "outputs": [],
   "source": [
    "input_dir = [\"data/bbc/business/\", \"data/bbc/tech/\"]\n",
    "output_dir = \"pickle/\""
   ]
  },
  {
   "cell_type": "code",
   "execution_count": 3,
   "metadata": {
    "collapsed": false
   },
   "outputs": [],
   "source": [
    "def load_data(input_dir, output_dir):\n",
    "    count = 0\n",
    "    print(\"Loading data...\")\n",
    "    for i in input_dir:\n",
    "        text_paths = glob.glob(i + \"*.txt\")\n",
    "        \n",
    "        for t in text_paths:\n",
    "            text_to_pickle(t, output_dir)\n",
    "            count = count + 1\n",
    "    print(\"Success: \" + str(count) + \" files loaded.\")\n",
    "            \n",
    "def text_to_pickle(input_path, output_dir):\n",
    "    # load text file\n",
    "    with open(input_path, \"r\") as fp:\n",
    "        article = fp.read()\n",
    "    \n",
    "    sentences = article.split(\"\\n\")\n",
    "\n",
    "    headline = sentences[0]\n",
    "\n",
    "    desc = \" \".join([l for l in sentences[1:] if l != '']) # take 2nd line onwards, remove blanks\n",
    "    keywords = None\n",
    "\n",
    "    output = {'headline': headline, 'desc': desc, 'keywords': keywords}\n",
    "\n",
    "    # write as pickle\n",
    "    filename = \"-\".join(input_path.split(\"/\"))\n",
    "    pickle.dump( output, open(output_dir+filename+\".pkl\", \"wb\" ))\n",
    "    "
   ]
  },
  {
   "cell_type": "code",
   "execution_count": 4,
   "metadata": {
    "collapsed": false
   },
   "outputs": [
    {
     "name": "stdout",
     "output_type": "stream",
     "text": [
      "Loading data...\n",
      "Success: 911 files loaded.\n"
     ]
    }
   ],
   "source": [
    "load_data(input_dir, output_dir)"
   ]
  },
  {
   "cell_type": "code",
   "execution_count": 121,
   "metadata": {
    "collapsed": true
   },
   "outputs": [],
   "source": []
  }
 ],
 "metadata": {
  "anaconda-cloud": {},
  "kernelspec": {
   "display_name": "Python [conda root]",
   "language": "python",
   "name": "conda-root-py"
  },
  "language_info": {
   "codemirror_mode": {
    "name": "ipython",
    "version": 3
   },
   "file_extension": ".py",
   "mimetype": "text/x-python",
   "name": "python",
   "nbconvert_exporter": "python",
   "pygments_lexer": "ipython3",
   "version": "3.5.2"
  }
 },
 "nbformat": 4,
 "nbformat_minor": 1
}
